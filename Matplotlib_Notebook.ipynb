{
 "cells": [
  {
   "cell_type": "markdown",
   "metadata": {},
   "source": [
    "## Observations and Insights"
   ]
  },
  {
   "cell_type": "markdown",
   "metadata": {},
   "source": [
    "Capomulin has the most datapoints to analyze and the lowest avg tumor volume size.<br>\n",
    "The 'female:male' ratio among mice test subjects is close to 50/50 with a slightly higher male population.<br> \n",
    "Among Capomulin test subjects: mouse 'Weight' and 'Average Tumor Volume' have a strong positive relationship.<br>\n",
    "A strong inverse relationship between 'Tumor Volume' and 'timepts' should indicate the effectiveness of the drug on the test subjects. See \"mouse_id = 's185'\""
   ]
  },
  {
   "cell_type": "markdown",
   "metadata": {},
   "source": []
  },
  {
   "cell_type": "markdown",
   "metadata": {},
   "source": [
    "## Dependencies and starter code"
   ]
  },
  {
   "cell_type": "code",
   "execution_count": 1,
   "metadata": {},
   "outputs": [
    {
     "data": {
      "text/html": [
       "<div>\n",
       "<style scoped>\n",
       "    .dataframe tbody tr th:only-of-type {\n",
       "        vertical-align: middle;\n",
       "    }\n",
       "\n",
       "    .dataframe tbody tr th {\n",
       "        vertical-align: top;\n",
       "    }\n",
       "\n",
       "    .dataframe thead th {\n",
       "        text-align: right;\n",
       "    }\n",
       "</style>\n",
       "<table border=\"1\" class=\"dataframe\">\n",
       "  <thead>\n",
       "    <tr style=\"text-align: right;\">\n",
       "      <th></th>\n",
       "      <th>MID</th>\n",
       "      <th>Drug</th>\n",
       "      <th>Sex</th>\n",
       "      <th>Age_mo</th>\n",
       "      <th>Weight</th>\n",
       "      <th>Timept</th>\n",
       "      <th>Volume</th>\n",
       "      <th>M_sites</th>\n",
       "    </tr>\n",
       "  </thead>\n",
       "  <tbody>\n",
       "    <tr>\n",
       "      <td>0</td>\n",
       "      <td>k403</td>\n",
       "      <td>Ramicane</td>\n",
       "      <td>Male</td>\n",
       "      <td>21</td>\n",
       "      <td>16</td>\n",
       "      <td>0</td>\n",
       "      <td>45.000000</td>\n",
       "      <td>0</td>\n",
       "    </tr>\n",
       "    <tr>\n",
       "      <td>1</td>\n",
       "      <td>k403</td>\n",
       "      <td>Ramicane</td>\n",
       "      <td>Male</td>\n",
       "      <td>21</td>\n",
       "      <td>16</td>\n",
       "      <td>5</td>\n",
       "      <td>38.825898</td>\n",
       "      <td>0</td>\n",
       "    </tr>\n",
       "    <tr>\n",
       "      <td>2</td>\n",
       "      <td>k403</td>\n",
       "      <td>Ramicane</td>\n",
       "      <td>Male</td>\n",
       "      <td>21</td>\n",
       "      <td>16</td>\n",
       "      <td>10</td>\n",
       "      <td>35.014271</td>\n",
       "      <td>1</td>\n",
       "    </tr>\n",
       "    <tr>\n",
       "      <td>3</td>\n",
       "      <td>k403</td>\n",
       "      <td>Ramicane</td>\n",
       "      <td>Male</td>\n",
       "      <td>21</td>\n",
       "      <td>16</td>\n",
       "      <td>15</td>\n",
       "      <td>34.223992</td>\n",
       "      <td>1</td>\n",
       "    </tr>\n",
       "    <tr>\n",
       "      <td>4</td>\n",
       "      <td>k403</td>\n",
       "      <td>Ramicane</td>\n",
       "      <td>Male</td>\n",
       "      <td>21</td>\n",
       "      <td>16</td>\n",
       "      <td>20</td>\n",
       "      <td>32.997729</td>\n",
       "      <td>1</td>\n",
       "    </tr>\n",
       "    <tr>\n",
       "      <td>...</td>\n",
       "      <td>...</td>\n",
       "      <td>...</td>\n",
       "      <td>...</td>\n",
       "      <td>...</td>\n",
       "      <td>...</td>\n",
       "      <td>...</td>\n",
       "      <td>...</td>\n",
       "      <td>...</td>\n",
       "    </tr>\n",
       "    <tr>\n",
       "      <td>1888</td>\n",
       "      <td>z969</td>\n",
       "      <td>Naftisol</td>\n",
       "      <td>Male</td>\n",
       "      <td>9</td>\n",
       "      <td>30</td>\n",
       "      <td>25</td>\n",
       "      <td>63.145652</td>\n",
       "      <td>2</td>\n",
       "    </tr>\n",
       "    <tr>\n",
       "      <td>1889</td>\n",
       "      <td>z969</td>\n",
       "      <td>Naftisol</td>\n",
       "      <td>Male</td>\n",
       "      <td>9</td>\n",
       "      <td>30</td>\n",
       "      <td>30</td>\n",
       "      <td>65.841013</td>\n",
       "      <td>3</td>\n",
       "    </tr>\n",
       "    <tr>\n",
       "      <td>1890</td>\n",
       "      <td>z969</td>\n",
       "      <td>Naftisol</td>\n",
       "      <td>Male</td>\n",
       "      <td>9</td>\n",
       "      <td>30</td>\n",
       "      <td>35</td>\n",
       "      <td>69.176246</td>\n",
       "      <td>4</td>\n",
       "    </tr>\n",
       "    <tr>\n",
       "      <td>1891</td>\n",
       "      <td>z969</td>\n",
       "      <td>Naftisol</td>\n",
       "      <td>Male</td>\n",
       "      <td>9</td>\n",
       "      <td>30</td>\n",
       "      <td>40</td>\n",
       "      <td>70.314904</td>\n",
       "      <td>4</td>\n",
       "    </tr>\n",
       "    <tr>\n",
       "      <td>1892</td>\n",
       "      <td>z969</td>\n",
       "      <td>Naftisol</td>\n",
       "      <td>Male</td>\n",
       "      <td>9</td>\n",
       "      <td>30</td>\n",
       "      <td>45</td>\n",
       "      <td>73.867845</td>\n",
       "      <td>4</td>\n",
       "    </tr>\n",
       "  </tbody>\n",
       "</table>\n",
       "<p>1893 rows × 8 columns</p>\n",
       "</div>"
      ],
      "text/plain": [
       "       MID      Drug   Sex  Age_mo  Weight  Timept     Volume  M_sites\n",
       "0     k403  Ramicane  Male      21      16       0  45.000000        0\n",
       "1     k403  Ramicane  Male      21      16       5  38.825898        0\n",
       "2     k403  Ramicane  Male      21      16      10  35.014271        1\n",
       "3     k403  Ramicane  Male      21      16      15  34.223992        1\n",
       "4     k403  Ramicane  Male      21      16      20  32.997729        1\n",
       "...    ...       ...   ...     ...     ...     ...        ...      ...\n",
       "1888  z969  Naftisol  Male       9      30      25  63.145652        2\n",
       "1889  z969  Naftisol  Male       9      30      30  65.841013        3\n",
       "1890  z969  Naftisol  Male       9      30      35  69.176246        4\n",
       "1891  z969  Naftisol  Male       9      30      40  70.314904        4\n",
       "1892  z969  Naftisol  Male       9      30      45  73.867845        4\n",
       "\n",
       "[1893 rows x 8 columns]"
      ]
     },
     "execution_count": 1,
     "metadata": {},
     "output_type": "execute_result"
    }
   ],
   "source": [
    "# Dependencies and Setup\n",
    "import matplotlib.pyplot as plt\n",
    "import pandas as pd\n",
    "import scipy.stats as st\n",
    "import numpy as np\n",
    "from scipy.stats import linregress\n",
    "\n",
    "# Study data files\n",
    "mouse_metadata = \"data/Mouse_metadata.csv\"\n",
    "study_results = \"data/Study_results.csv\"\n",
    "\n",
    "# Read the mouse data and the study results\n",
    "mouse_metadata = pd.read_csv(mouse_metadata)\n",
    "study_results = pd.read_csv(study_results)\n",
    "\n",
    "# Combine the data into a single dataset\n",
    "merged_mice = pd.merge(mouse_metadata, study_results, on='Mouse ID')\n",
    "mice_df = merged_mice.rename({'Mouse ID':'MID', 'Drug Regimen':'Drug', 'Age_months':'Age_mo', 'Weight (g)':'Weight', 'Timepoint':'Timept', 'Tumor Volume (mm3)':'Volume', 'Metastatic Sites':'M_sites'}, axis=1)\n",
    "mice_df2 = mice_df\n",
    "mice_df3 = mice_df\n",
    "mice_df4= mice_df\n",
    "mice_df"
   ]
  },
  {
   "cell_type": "markdown",
   "metadata": {},
   "source": [
    "## Summary statistics"
   ]
  },
  {
   "cell_type": "code",
   "execution_count": 2,
   "metadata": {},
   "outputs": [],
   "source": [
    "# Generate a summary statistics table of mean, median, variance, standard deviation, and SEM of the tumor volume for each regimen"
   ]
  },
  {
   "cell_type": "code",
   "execution_count": 3,
   "metadata": {},
   "outputs": [
    {
     "data": {
      "text/html": [
       "<div>\n",
       "<style scoped>\n",
       "    .dataframe tbody tr th:only-of-type {\n",
       "        vertical-align: middle;\n",
       "    }\n",
       "\n",
       "    .dataframe tbody tr th {\n",
       "        vertical-align: top;\n",
       "    }\n",
       "\n",
       "    .dataframe thead th {\n",
       "        text-align: right;\n",
       "    }\n",
       "</style>\n",
       "<table border=\"1\" class=\"dataframe\">\n",
       "  <thead>\n",
       "    <tr style=\"text-align: right;\">\n",
       "      <th></th>\n",
       "      <th>count</th>\n",
       "      <th>mean</th>\n",
       "      <th>std</th>\n",
       "      <th>median</th>\n",
       "      <th>var</th>\n",
       "      <th>sem</th>\n",
       "    </tr>\n",
       "    <tr>\n",
       "      <th>Drug</th>\n",
       "      <th></th>\n",
       "      <th></th>\n",
       "      <th></th>\n",
       "      <th></th>\n",
       "      <th></th>\n",
       "      <th></th>\n",
       "    </tr>\n",
       "  </thead>\n",
       "  <tbody>\n",
       "    <tr>\n",
       "      <td>Capomulin</td>\n",
       "      <td>230.0</td>\n",
       "      <td>40.675741</td>\n",
       "      <td>4.994774</td>\n",
       "      <td>41.557809</td>\n",
       "      <td>24.947764</td>\n",
       "      <td>0.329346</td>\n",
       "    </tr>\n",
       "    <tr>\n",
       "      <td>Ceftamin</td>\n",
       "      <td>178.0</td>\n",
       "      <td>52.591172</td>\n",
       "      <td>6.268188</td>\n",
       "      <td>51.776157</td>\n",
       "      <td>39.290177</td>\n",
       "      <td>0.469821</td>\n",
       "    </tr>\n",
       "    <tr>\n",
       "      <td>Infubinol</td>\n",
       "      <td>178.0</td>\n",
       "      <td>52.884795</td>\n",
       "      <td>6.567243</td>\n",
       "      <td>51.820584</td>\n",
       "      <td>43.128684</td>\n",
       "      <td>0.492236</td>\n",
       "    </tr>\n",
       "    <tr>\n",
       "      <td>Ketapril</td>\n",
       "      <td>188.0</td>\n",
       "      <td>55.235638</td>\n",
       "      <td>8.279709</td>\n",
       "      <td>53.698743</td>\n",
       "      <td>68.553577</td>\n",
       "      <td>0.603860</td>\n",
       "    </tr>\n",
       "    <tr>\n",
       "      <td>Naftisol</td>\n",
       "      <td>186.0</td>\n",
       "      <td>54.331565</td>\n",
       "      <td>8.134708</td>\n",
       "      <td>52.509285</td>\n",
       "      <td>66.173479</td>\n",
       "      <td>0.596466</td>\n",
       "    </tr>\n",
       "    <tr>\n",
       "      <td>Placebo</td>\n",
       "      <td>181.0</td>\n",
       "      <td>54.033581</td>\n",
       "      <td>7.821003</td>\n",
       "      <td>52.288934</td>\n",
       "      <td>61.168083</td>\n",
       "      <td>0.581331</td>\n",
       "    </tr>\n",
       "    <tr>\n",
       "      <td>Propriva</td>\n",
       "      <td>161.0</td>\n",
       "      <td>52.322552</td>\n",
       "      <td>6.507770</td>\n",
       "      <td>50.854632</td>\n",
       "      <td>42.351070</td>\n",
       "      <td>0.512884</td>\n",
       "    </tr>\n",
       "    <tr>\n",
       "      <td>Ramicane</td>\n",
       "      <td>228.0</td>\n",
       "      <td>40.216745</td>\n",
       "      <td>4.846308</td>\n",
       "      <td>40.673236</td>\n",
       "      <td>23.486704</td>\n",
       "      <td>0.320955</td>\n",
       "    </tr>\n",
       "    <tr>\n",
       "      <td>Stelasyn</td>\n",
       "      <td>181.0</td>\n",
       "      <td>54.233149</td>\n",
       "      <td>7.710419</td>\n",
       "      <td>52.431737</td>\n",
       "      <td>59.450562</td>\n",
       "      <td>0.573111</td>\n",
       "    </tr>\n",
       "    <tr>\n",
       "      <td>Zoniferol</td>\n",
       "      <td>182.0</td>\n",
       "      <td>53.236507</td>\n",
       "      <td>6.966589</td>\n",
       "      <td>51.818479</td>\n",
       "      <td>48.533355</td>\n",
       "      <td>0.516398</td>\n",
       "    </tr>\n",
       "  </tbody>\n",
       "</table>\n",
       "</div>"
      ],
      "text/plain": [
       "           count       mean       std     median        var       sem\n",
       "Drug                                                                 \n",
       "Capomulin  230.0  40.675741  4.994774  41.557809  24.947764  0.329346\n",
       "Ceftamin   178.0  52.591172  6.268188  51.776157  39.290177  0.469821\n",
       "Infubinol  178.0  52.884795  6.567243  51.820584  43.128684  0.492236\n",
       "Ketapril   188.0  55.235638  8.279709  53.698743  68.553577  0.603860\n",
       "Naftisol   186.0  54.331565  8.134708  52.509285  66.173479  0.596466\n",
       "Placebo    181.0  54.033581  7.821003  52.288934  61.168083  0.581331\n",
       "Propriva   161.0  52.322552  6.507770  50.854632  42.351070  0.512884\n",
       "Ramicane   228.0  40.216745  4.846308  40.673236  23.486704  0.320955\n",
       "Stelasyn   181.0  54.233149  7.710419  52.431737  59.450562  0.573111\n",
       "Zoniferol  182.0  53.236507  6.966589  51.818479  48.533355  0.516398"
      ]
     },
     "execution_count": 3,
     "metadata": {},
     "output_type": "execute_result"
    }
   ],
   "source": [
    "tumor_vol_df = mice_df.groupby('Drug')['Volume'].describe()\n",
    "#calculate median, variance, SEM, convert to DF, add each as a new column \n",
    "tumor_vol_df['median'] = pd.DataFrame(mice_df.groupby('Drug')['Volume'].median())\n",
    "tumor_vol_df['var'] = pd.DataFrame(mice_df.groupby('Drug')['Volume'].var())\n",
    "tumor_vol_df['sem'] = pd.DataFrame(mice_df.groupby('Drug')['Volume'].sem())\n",
    "\n",
    "#keep count, .describe() gives mean, std--grab variables from DF\n",
    "drug_summary = tumor_vol_df.loc[:,['count','mean','std','median','var','sem']]\n",
    "drug_summary"
   ]
  },
  {
   "cell_type": "code",
   "execution_count": 4,
   "metadata": {},
   "outputs": [
    {
     "data": {
      "text/html": [
       "<div>\n",
       "<style scoped>\n",
       "    .dataframe tbody tr th:only-of-type {\n",
       "        vertical-align: middle;\n",
       "    }\n",
       "\n",
       "    .dataframe tbody tr th {\n",
       "        vertical-align: top;\n",
       "    }\n",
       "\n",
       "    .dataframe thead th {\n",
       "        text-align: right;\n",
       "    }\n",
       "</style>\n",
       "<table border=\"1\" class=\"dataframe\">\n",
       "  <thead>\n",
       "    <tr style=\"text-align: right;\">\n",
       "      <th></th>\n",
       "      <th>Mean</th>\n",
       "      <th>Median</th>\n",
       "    </tr>\n",
       "    <tr>\n",
       "      <th>Drug</th>\n",
       "      <th></th>\n",
       "      <th></th>\n",
       "    </tr>\n",
       "  </thead>\n",
       "  <tbody>\n",
       "    <tr>\n",
       "      <td>Capomulin</td>\n",
       "      <td>40.675741</td>\n",
       "      <td>41.557809</td>\n",
       "    </tr>\n",
       "    <tr>\n",
       "      <td>Ceftamin</td>\n",
       "      <td>52.591172</td>\n",
       "      <td>51.776157</td>\n",
       "    </tr>\n",
       "    <tr>\n",
       "      <td>Infubinol</td>\n",
       "      <td>52.884795</td>\n",
       "      <td>51.820584</td>\n",
       "    </tr>\n",
       "    <tr>\n",
       "      <td>Ketapril</td>\n",
       "      <td>55.235638</td>\n",
       "      <td>53.698743</td>\n",
       "    </tr>\n",
       "    <tr>\n",
       "      <td>Naftisol</td>\n",
       "      <td>54.331565</td>\n",
       "      <td>52.509285</td>\n",
       "    </tr>\n",
       "    <tr>\n",
       "      <td>Placebo</td>\n",
       "      <td>54.033581</td>\n",
       "      <td>52.288934</td>\n",
       "    </tr>\n",
       "    <tr>\n",
       "      <td>Propriva</td>\n",
       "      <td>52.322552</td>\n",
       "      <td>50.854632</td>\n",
       "    </tr>\n",
       "    <tr>\n",
       "      <td>Ramicane</td>\n",
       "      <td>40.216745</td>\n",
       "      <td>40.673236</td>\n",
       "    </tr>\n",
       "    <tr>\n",
       "      <td>Stelasyn</td>\n",
       "      <td>54.233149</td>\n",
       "      <td>52.431737</td>\n",
       "    </tr>\n",
       "    <tr>\n",
       "      <td>Zoniferol</td>\n",
       "      <td>53.236507</td>\n",
       "      <td>51.818479</td>\n",
       "    </tr>\n",
       "  </tbody>\n",
       "</table>\n",
       "</div>"
      ],
      "text/plain": [
       "                Mean     Median\n",
       "Drug                           \n",
       "Capomulin  40.675741  41.557809\n",
       "Ceftamin   52.591172  51.776157\n",
       "Infubinol  52.884795  51.820584\n",
       "Ketapril   55.235638  53.698743\n",
       "Naftisol   54.331565  52.509285\n",
       "Placebo    54.033581  52.288934\n",
       "Propriva   52.322552  50.854632\n",
       "Ramicane   40.216745  40.673236\n",
       "Stelasyn   54.233149  52.431737\n",
       "Zoniferol  53.236507  51.818479"
      ]
     },
     "execution_count": 4,
     "metadata": {},
     "output_type": "execute_result"
    }
   ],
   "source": [
    "#with Alexis\n",
    "mice_mean = mice_df.groupby('Drug').mean()['Volume']\n",
    "mice_median = mice_df.groupby('Drug').median()['Volume']\n",
    "summary = pd.DataFrame({'Mean':mice_mean, 'Median': mice_median})\n",
    "summary"
   ]
  },
  {
   "cell_type": "code",
   "execution_count": 5,
   "metadata": {},
   "outputs": [
    {
     "data": {
      "text/plain": [
       "Index(['Drug', 'count', 'mean', 'std', 'median', 'var', 'sem'], dtype='object')"
      ]
     },
     "execution_count": 5,
     "metadata": {},
     "output_type": "execute_result"
    }
   ],
   "source": [
    "drug_summary.reset_index(inplace=True)\n",
    "drug_summary.columns"
   ]
  },
  {
   "cell_type": "markdown",
   "metadata": {},
   "source": [
    "## Bar plots"
   ]
  },
  {
   "cell_type": "markdown",
   "metadata": {},
   "source": [
    "#Generate a bar plot showing number of data points for each treatment regimen using pandas"
   ]
  },
  {
   "cell_type": "code",
   "execution_count": 6,
   "metadata": {},
   "outputs": [
    {
     "data": {
      "image/png": "[encoded data removed]",
      "text/plain": [
       "<Figure size 864x504 with 1 Axes>"
      ]
     },
     "metadata": {
      "needs_background": "light"
     },
     "output_type": "display_data"
    },
    {
     "data": {
      "text/plain": [
       "<Figure size 432x288 with 0 Axes>"
      ]
     },
     "metadata": {},
     "output_type": "display_data"
    }
   ],
   "source": [
    "# Generate a bar plot showing number of data points for each treatment regimen using pandas\n",
    "data_points = drug_summary[['Drug','count']]\n",
    "data_points.set_index('Drug', inplace=True)\n",
    "\n",
    "#Use DataFrame.plot() in order to create a bar chart of the data\n",
    "data_points.plot(kind='bar', figsize=(12,7), color='#32adb1', alpha=0.8)\n",
    "plt.title('Data Points By Drug Regimen')\n",
    "\n",
    "plt.show()\n",
    "plt.tight_layout()"
   ]
  },
  {
   "cell_type": "markdown",
   "metadata": {},
   "source": [
    "#Generate a bar plot showing number of data points for each treatment regimen using pyplot"
   ]
  },
  {
   "cell_type": "code",
   "execution_count": 7,
   "metadata": {},
   "outputs": [
    {
     "data": {
      "text/plain": [
       "<module 'matplotlib.pyplot' from '/Users/claudiatrahan/opt/anaconda3/lib/python3.7/site-packages/matplotlib/pyplot.py'>"
      ]
     },
     "execution_count": 7,
     "metadata": {},
     "output_type": "execute_result"
    },
    {
     "data": {
      "image/png": "[encoded data removed]",
      "text/plain": [
       "<Figure size 864x504 with 1 Axes>"
      ]
     },
     "metadata": {
      "needs_background": "light"
     },
     "output_type": "display_data"
    }
   ],
   "source": [
    "# Generate a bar plot showing number of data points for each treatment regimen using pyplot\n",
    "#set axis and tick locations\n",
    "x_axis = np.arange(len(data_points))\n",
    "tick_locations = [value for value in x_axis]\n",
    "#create list/ indicate where to write x lables/set figure size to adj for space\n",
    "plt.figure(figsize=(12,7))\n",
    "plt.bar(x_axis,data_points['count'], color='#32adb1', alpha=0.8, align='center', width=0.50)\n",
    "plt.xticks(tick_locations,drug_summary['Drug'], rotation=90)\n",
    "#set x and y limits\n",
    "plt.xlim(-0.75,len(x_axis))\n",
    "plt.ylim(0, max(data_points['count'])+10)\n",
    "#set a title and lables\n",
    "plt.title('Data Points By Drug Regimen')\n",
    "plt.xlabel('Drug Names')\n",
    "plt.ylabel('Research Datapoints')\n",
    "plt.tight_layout()\n",
    "#save and show graph\n",
    "plt"
   ]
  },
  {
   "cell_type": "code",
   "execution_count": 8,
   "metadata": {},
   "outputs": [
    {
     "data": {
      "image/png": "[encoded data removed]",
      "text/plain": [
       "<Figure size 432x288 with 1 Axes>"
      ]
     },
     "metadata": {
      "needs_background": "light"
     },
     "output_type": "display_data"
    },
    {
     "data": {
      "text/plain": [
       "<Figure size 432x288 with 0 Axes>"
      ]
     },
     "metadata": {},
     "output_type": "display_data"
    }
   ],
   "source": [
    "drug_group = mice_df.groupby('Drug')\n",
    "count_drug_group = drug_group['Volume'].count()\n",
    "count_drug_group\n",
    "# Set the xlabel and ylabel using class methods\n",
    "drug_plot = count_drug_group.plot(kind='bar',color='#32adb1')\n",
    "drug_plot.set_xlabel(\"Drug Names\")\n",
    "drug_plot.set_ylabel(\"Count of Datapoints\")\n",
    "\n",
    "plt.show()\n",
    "plt.tight_layout()"
   ]
  },
  {
   "cell_type": "markdown",
   "metadata": {},
   "source": [
    "## Pie plots"
   ]
  },
  {
   "cell_type": "code",
   "execution_count": 9,
   "metadata": {},
   "outputs": [
    {
     "data": {
      "text/html": [
       "<div>\n",
       "<style scoped>\n",
       "    .dataframe tbody tr th:only-of-type {\n",
       "        vertical-align: middle;\n",
       "    }\n",
       "\n",
       "    .dataframe tbody tr th {\n",
       "        vertical-align: top;\n",
       "    }\n",
       "\n",
       "    .dataframe thead th {\n",
       "        text-align: right;\n",
       "    }\n",
       "</style>\n",
       "<table border=\"1\" class=\"dataframe\">\n",
       "  <thead>\n",
       "    <tr style=\"text-align: right;\">\n",
       "      <th></th>\n",
       "      <th>Mouse ID</th>\n",
       "    </tr>\n",
       "    <tr>\n",
       "      <th>Sex</th>\n",
       "      <th></th>\n",
       "    </tr>\n",
       "  </thead>\n",
       "  <tbody>\n",
       "    <tr>\n",
       "      <td>Female</td>\n",
       "      <td>124</td>\n",
       "    </tr>\n",
       "    <tr>\n",
       "      <td>Male</td>\n",
       "      <td>125</td>\n",
       "    </tr>\n",
       "  </tbody>\n",
       "</table>\n",
       "</div>"
      ],
      "text/plain": [
       "        Mouse ID\n",
       "Sex             \n",
       "Female       124\n",
       "Male         125"
      ]
     },
     "execution_count": 9,
     "metadata": {},
     "output_type": "execute_result"
    }
   ],
   "source": [
    "gender_df = pd.DataFrame(mouse_metadata.groupby('Sex')['Mouse ID'].count())\n",
    "gender_df"
   ]
  },
  {
   "cell_type": "code",
   "execution_count": 10,
   "metadata": {},
   "outputs": [
    {
     "data": {
      "text/plain": [
       "Text(0.5, 1.0, 'Test Subjects Gender Distribution')"
      ]
     },
     "execution_count": 10,
     "metadata": {},
     "output_type": "execute_result"
    },
    {
     "data": {
      "image/png": "[encoded data removed]",
      "text/plain": [
       "<Figure size 360x360 with 1 Axes>"
      ]
     },
     "metadata": {},
     "output_type": "display_data"
    }
   ],
   "source": [
    "#plt.figure(figsize=(6,6))\n",
    "ax1 = plt.subplot(111, aspect='equal')\n",
    "gender_df.plot(kind='pie', y='Mouse ID', ax=ax1,figsize=(5,5), \n",
    "               colors=['#993366', '#00999e'], startangle=40, \n",
    "               explode= [0,0.09], shadow=True,  autopct=\"%1.1f%%\")\n",
    "plt.title(\"Test Subjects Gender Distribution\")"
   ]
  },
  {
   "cell_type": "code",
   "execution_count": 11,
   "metadata": {},
   "outputs": [
    {
     "data": {
      "image/png": "[encoded data removed]",
      "text/plain": [
       "<Figure size 432x288 with 1 Axes>"
      ]
     },
     "metadata": {},
     "output_type": "display_data"
    }
   ],
   "source": [
    "# Generate a pie plot showing the distribution of female versus male mice using pyplot\n",
    "%matplotlib inline\n",
    "#gender_df.reset_index('Sex', inplace=True)\n",
    "gender_count = [124, 125]\n",
    "labels = ['Female','Male']\n",
    "colors = ['#993366', '#00999e']\n",
    "explode = [0,0.09]\n",
    "plt.title(\"Test Subjects Gender Distribution\")\n",
    "plt.pie(gender_count, explode=explode, labels=labels, colors=colors,\n",
    "        autopct=\"%1.1f%%\", shadow=True, startangle=40)\n",
    "plt.axis(\"equal\")\n",
    "plt.show()\n"
   ]
  },
  {
   "cell_type": "markdown",
   "metadata": {},
   "source": [
    "## Quartiles, outliers and boxplots"
   ]
  },
  {
   "cell_type": "markdown",
   "metadata": {},
   "source": [
    "##Calculate the final tumor volume of each mouse across four of the most promising treatment regimens. "
   ]
  },
  {
   "cell_type": "markdown",
   "metadata": {},
   "source": [
    "### Find Top Four"
   ]
  },
  {
   "cell_type": "code",
   "execution_count": 12,
   "metadata": {},
   "outputs": [
    {
     "data": {
      "text/html": [
       "<div>\n",
       "<style scoped>\n",
       "    .dataframe tbody tr th:only-of-type {\n",
       "        vertical-align: middle;\n",
       "    }\n",
       "\n",
       "    .dataframe tbody tr th {\n",
       "        vertical-align: top;\n",
       "    }\n",
       "\n",
       "    .dataframe thead th {\n",
       "        text-align: right;\n",
       "    }\n",
       "</style>\n",
       "<table border=\"1\" class=\"dataframe\">\n",
       "  <thead>\n",
       "    <tr style=\"text-align: right;\">\n",
       "      <th></th>\n",
       "      <th>count</th>\n",
       "      <th>mean</th>\n",
       "      <th>std</th>\n",
       "      <th>min</th>\n",
       "      <th>25%</th>\n",
       "      <th>50%</th>\n",
       "      <th>75%</th>\n",
       "      <th>max</th>\n",
       "    </tr>\n",
       "    <tr>\n",
       "      <th>Drug</th>\n",
       "      <th></th>\n",
       "      <th></th>\n",
       "      <th></th>\n",
       "      <th></th>\n",
       "      <th></th>\n",
       "      <th></th>\n",
       "      <th></th>\n",
       "      <th></th>\n",
       "    </tr>\n",
       "  </thead>\n",
       "  <tbody>\n",
       "    <tr>\n",
       "      <td>Ramicane</td>\n",
       "      <td>228.0</td>\n",
       "      <td>40.216745</td>\n",
       "      <td>4.846308</td>\n",
       "      <td>22.050126</td>\n",
       "      <td>36.674635</td>\n",
       "      <td>40.673236</td>\n",
       "      <td>45.000000</td>\n",
       "      <td>47.622816</td>\n",
       "    </tr>\n",
       "    <tr>\n",
       "      <td>Capomulin</td>\n",
       "      <td>230.0</td>\n",
       "      <td>40.675741</td>\n",
       "      <td>4.994774</td>\n",
       "      <td>23.343598</td>\n",
       "      <td>37.685933</td>\n",
       "      <td>41.557809</td>\n",
       "      <td>45.000000</td>\n",
       "      <td>48.158209</td>\n",
       "    </tr>\n",
       "    <tr>\n",
       "      <td>Propriva</td>\n",
       "      <td>161.0</td>\n",
       "      <td>52.322552</td>\n",
       "      <td>6.507770</td>\n",
       "      <td>45.000000</td>\n",
       "      <td>47.081086</td>\n",
       "      <td>50.854632</td>\n",
       "      <td>56.184664</td>\n",
       "      <td>72.455421</td>\n",
       "    </tr>\n",
       "    <tr>\n",
       "      <td>Ceftamin</td>\n",
       "      <td>178.0</td>\n",
       "      <td>52.591172</td>\n",
       "      <td>6.268188</td>\n",
       "      <td>45.000000</td>\n",
       "      <td>47.208427</td>\n",
       "      <td>51.776157</td>\n",
       "      <td>56.801438</td>\n",
       "      <td>68.923185</td>\n",
       "    </tr>\n",
       "    <tr>\n",
       "      <td>Infubinol</td>\n",
       "      <td>178.0</td>\n",
       "      <td>52.884795</td>\n",
       "      <td>6.567243</td>\n",
       "      <td>36.321346</td>\n",
       "      <td>47.312353</td>\n",
       "      <td>51.820584</td>\n",
       "      <td>57.314444</td>\n",
       "      <td>72.226731</td>\n",
       "    </tr>\n",
       "    <tr>\n",
       "      <td>Zoniferol</td>\n",
       "      <td>182.0</td>\n",
       "      <td>53.236507</td>\n",
       "      <td>6.966589</td>\n",
       "      <td>45.000000</td>\n",
       "      <td>47.337876</td>\n",
       "      <td>51.818479</td>\n",
       "      <td>57.954259</td>\n",
       "      <td>73.324432</td>\n",
       "    </tr>\n",
       "    <tr>\n",
       "      <td>Placebo</td>\n",
       "      <td>181.0</td>\n",
       "      <td>54.033581</td>\n",
       "      <td>7.821003</td>\n",
       "      <td>45.000000</td>\n",
       "      <td>47.459053</td>\n",
       "      <td>52.288934</td>\n",
       "      <td>59.916934</td>\n",
       "      <td>73.212939</td>\n",
       "    </tr>\n",
       "    <tr>\n",
       "      <td>Stelasyn</td>\n",
       "      <td>181.0</td>\n",
       "      <td>54.233149</td>\n",
       "      <td>7.710419</td>\n",
       "      <td>45.000000</td>\n",
       "      <td>48.047139</td>\n",
       "      <td>52.431737</td>\n",
       "      <td>58.719297</td>\n",
       "      <td>75.123690</td>\n",
       "    </tr>\n",
       "    <tr>\n",
       "      <td>Naftisol</td>\n",
       "      <td>186.0</td>\n",
       "      <td>54.331565</td>\n",
       "      <td>8.134708</td>\n",
       "      <td>45.000000</td>\n",
       "      <td>47.285874</td>\n",
       "      <td>52.509285</td>\n",
       "      <td>59.963034</td>\n",
       "      <td>76.668817</td>\n",
       "    </tr>\n",
       "    <tr>\n",
       "      <td>Ketapril</td>\n",
       "      <td>188.0</td>\n",
       "      <td>55.235638</td>\n",
       "      <td>8.279709</td>\n",
       "      <td>45.000000</td>\n",
       "      <td>48.232987</td>\n",
       "      <td>53.698743</td>\n",
       "      <td>60.870951</td>\n",
       "      <td>78.567014</td>\n",
       "    </tr>\n",
       "  </tbody>\n",
       "</table>\n",
       "</div>"
      ],
      "text/plain": [
       "           count       mean       std        min        25%        50%  \\\n",
       "Drug                                                                     \n",
       "Ramicane   228.0  40.216745  4.846308  22.050126  36.674635  40.673236   \n",
       "Capomulin  230.0  40.675741  4.994774  23.343598  37.685933  41.557809   \n",
       "Propriva   161.0  52.322552  6.507770  45.000000  47.081086  50.854632   \n",
       "Ceftamin   178.0  52.591172  6.268188  45.000000  47.208427  51.776157   \n",
       "Infubinol  178.0  52.884795  6.567243  36.321346  47.312353  51.820584   \n",
       "Zoniferol  182.0  53.236507  6.966589  45.000000  47.337876  51.818479   \n",
       "Placebo    181.0  54.033581  7.821003  45.000000  47.459053  52.288934   \n",
       "Stelasyn   181.0  54.233149  7.710419  45.000000  48.047139  52.431737   \n",
       "Naftisol   186.0  54.331565  8.134708  45.000000  47.285874  52.509285   \n",
       "Ketapril   188.0  55.235638  8.279709  45.000000  48.232987  53.698743   \n",
       "\n",
       "                 75%        max  \n",
       "Drug                             \n",
       "Ramicane   45.000000  47.622816  \n",
       "Capomulin  45.000000  48.158209  \n",
       "Propriva   56.184664  72.455421  \n",
       "Ceftamin   56.801438  68.923185  \n",
       "Infubinol  57.314444  72.226731  \n",
       "Zoniferol  57.954259  73.324432  \n",
       "Placebo    59.916934  73.212939  \n",
       "Stelasyn   58.719297  75.123690  \n",
       "Naftisol   59.963034  76.668817  \n",
       "Ketapril   60.870951  78.567014  "
      ]
     },
     "execution_count": 12,
     "metadata": {},
     "output_type": "execute_result"
    }
   ],
   "source": [
    "#group mice data by drug, describe summary stats of volumes\n",
    "tumor_vol_df = mice_df.groupby('Drug')['Volume'].describe()\n",
    "\n",
    "#sort vol by mean--smaller mean vol=more effective, sort data by mean ascending\n",
    "#Results...Ramicane Capomulin Propriva Ceftamin\n",
    "tumor_vol_df.sort_values(by='mean', inplace=True)\n",
    "tumor_vol_df"
   ]
  },
  {
   "cell_type": "code",
   "execution_count": 13,
   "metadata": {},
   "outputs": [
    {
     "data": {
      "text/html": [
       "<div>\n",
       "<style scoped>\n",
       "    .dataframe tbody tr th:only-of-type {\n",
       "        vertical-align: middle;\n",
       "    }\n",
       "\n",
       "    .dataframe tbody tr th {\n",
       "        vertical-align: top;\n",
       "    }\n",
       "\n",
       "    .dataframe thead th {\n",
       "        text-align: right;\n",
       "    }\n",
       "</style>\n",
       "<table border=\"1\" class=\"dataframe\">\n",
       "  <thead>\n",
       "    <tr style=\"text-align: right;\">\n",
       "      <th></th>\n",
       "      <th>Volume</th>\n",
       "    </tr>\n",
       "    <tr>\n",
       "      <th>Drug</th>\n",
       "      <th></th>\n",
       "    </tr>\n",
       "  </thead>\n",
       "  <tbody>\n",
       "    <tr>\n",
       "      <td>Ramicane</td>\n",
       "      <td>40.673236</td>\n",
       "    </tr>\n",
       "    <tr>\n",
       "      <td>Capomulin</td>\n",
       "      <td>41.557809</td>\n",
       "    </tr>\n",
       "    <tr>\n",
       "      <td>Propriva</td>\n",
       "      <td>50.854632</td>\n",
       "    </tr>\n",
       "    <tr>\n",
       "      <td>Ceftamin</td>\n",
       "      <td>51.776157</td>\n",
       "    </tr>\n",
       "    <tr>\n",
       "      <td>Zoniferol</td>\n",
       "      <td>51.818479</td>\n",
       "    </tr>\n",
       "    <tr>\n",
       "      <td>Infubinol</td>\n",
       "      <td>51.820584</td>\n",
       "    </tr>\n",
       "    <tr>\n",
       "      <td>Placebo</td>\n",
       "      <td>52.288934</td>\n",
       "    </tr>\n",
       "    <tr>\n",
       "      <td>Stelasyn</td>\n",
       "      <td>52.431737</td>\n",
       "    </tr>\n",
       "    <tr>\n",
       "      <td>Naftisol</td>\n",
       "      <td>52.509285</td>\n",
       "    </tr>\n",
       "    <tr>\n",
       "      <td>Ketapril</td>\n",
       "      <td>53.698743</td>\n",
       "    </tr>\n",
       "  </tbody>\n",
       "</table>\n",
       "</div>"
      ],
      "text/plain": [
       "              Volume\n",
       "Drug                \n",
       "Ramicane   40.673236\n",
       "Capomulin  41.557809\n",
       "Propriva   50.854632\n",
       "Ceftamin   51.776157\n",
       "Zoniferol  51.818479\n",
       "Infubinol  51.820584\n",
       "Placebo    52.288934\n",
       "Stelasyn   52.431737\n",
       "Naftisol   52.509285\n",
       "Ketapril   53.698743"
      ]
     },
     "execution_count": 13,
     "metadata": {},
     "output_type": "execute_result"
    }
   ],
   "source": [
    "#sort vol by mean--smaller mean vol=more effective, sort data by mean ascending\n",
    "med_tumor_vol_df = mice_df.groupby('Drug')[['Drug','Volume']].median()\n",
    "med_tumor_vol_df.sort_values(by='Volume')\n"
   ]
  },
  {
   "cell_type": "markdown",
   "metadata": {},
   "source": [
    "###Calculate the final tumor volume of each mouse across four of the most promising treatment regimens."
   ]
  },
  {
   "cell_type": "code",
   "execution_count": 14,
   "metadata": {},
   "outputs": [
    {
     "data": {
      "text/html": [
       "<div>\n",
       "<style scoped>\n",
       "    .dataframe tbody tr th:only-of-type {\n",
       "        vertical-align: middle;\n",
       "    }\n",
       "\n",
       "    .dataframe tbody tr th {\n",
       "        vertical-align: top;\n",
       "    }\n",
       "\n",
       "    .dataframe thead th {\n",
       "        text-align: right;\n",
       "    }\n",
       "</style>\n",
       "<table border=\"1\" class=\"dataframe\">\n",
       "  <thead>\n",
       "    <tr style=\"text-align: right;\">\n",
       "      <th></th>\n",
       "      <th>MID</th>\n",
       "      <th>Drug</th>\n",
       "      <th>Timept</th>\n",
       "      <th>Volume</th>\n",
       "    </tr>\n",
       "  </thead>\n",
       "  <tbody>\n",
       "    <tr>\n",
       "      <td>84</td>\n",
       "      <td>z578</td>\n",
       "      <td>Ramicane</td>\n",
       "      <td>45</td>\n",
       "      <td>30.638696</td>\n",
       "    </tr>\n",
       "    <tr>\n",
       "      <td>1862</td>\n",
       "      <td>z435</td>\n",
       "      <td>Propriva</td>\n",
       "      <td>10</td>\n",
       "      <td>48.710661</td>\n",
       "    </tr>\n",
       "    <tr>\n",
       "      <td>1855</td>\n",
       "      <td>y865</td>\n",
       "      <td>Ceftamin</td>\n",
       "      <td>45</td>\n",
       "      <td>64.729837</td>\n",
       "    </tr>\n",
       "    <tr>\n",
       "      <td>124</td>\n",
       "      <td>y793</td>\n",
       "      <td>Capomulin</td>\n",
       "      <td>45</td>\n",
       "      <td>31.896238</td>\n",
       "    </tr>\n",
       "    <tr>\n",
       "      <td>1845</td>\n",
       "      <td>y769</td>\n",
       "      <td>Ceftamin</td>\n",
       "      <td>45</td>\n",
       "      <td>68.594745</td>\n",
       "    </tr>\n",
       "    <tr>\n",
       "      <td>...</td>\n",
       "      <td>...</td>\n",
       "      <td>...</td>\n",
       "      <td>...</td>\n",
       "      <td>...</td>\n",
       "    </tr>\n",
       "    <tr>\n",
       "      <td>174</td>\n",
       "      <td>a644</td>\n",
       "      <td>Ramicane</td>\n",
       "      <td>45</td>\n",
       "      <td>32.978522</td>\n",
       "    </tr>\n",
       "    <tr>\n",
       "      <td>214</td>\n",
       "      <td>a520</td>\n",
       "      <td>Ramicane</td>\n",
       "      <td>45</td>\n",
       "      <td>38.810366</td>\n",
       "    </tr>\n",
       "    <tr>\n",
       "      <td>430</td>\n",
       "      <td>a444</td>\n",
       "      <td>Ramicane</td>\n",
       "      <td>45</td>\n",
       "      <td>43.047543</td>\n",
       "    </tr>\n",
       "    <tr>\n",
       "      <td>327</td>\n",
       "      <td>a411</td>\n",
       "      <td>Ramicane</td>\n",
       "      <td>45</td>\n",
       "      <td>38.407618</td>\n",
       "    </tr>\n",
       "    <tr>\n",
       "      <td>493</td>\n",
       "      <td>a275</td>\n",
       "      <td>Ceftamin</td>\n",
       "      <td>45</td>\n",
       "      <td>62.999356</td>\n",
       "    </tr>\n",
       "  </tbody>\n",
       "</table>\n",
       "<p>100 rows × 4 columns</p>\n",
       "</div>"
      ],
      "text/plain": [
       "       MID       Drug  Timept     Volume\n",
       "84    z578   Ramicane      45  30.638696\n",
       "1862  z435   Propriva      10  48.710661\n",
       "1855  y865   Ceftamin      45  64.729837\n",
       "124   y793  Capomulin      45  31.896238\n",
       "1845  y769   Ceftamin      45  68.594745\n",
       "...    ...        ...     ...        ...\n",
       "174   a644   Ramicane      45  32.978522\n",
       "214   a520   Ramicane      45  38.810366\n",
       "430   a444   Ramicane      45  43.047543\n",
       "327   a411   Ramicane      45  38.407618\n",
       "493   a275   Ceftamin      45  62.999356\n",
       "\n",
       "[100 rows x 4 columns]"
      ]
     },
     "execution_count": 14,
     "metadata": {},
     "output_type": "execute_result"
    }
   ],
   "source": [
    "# Calculate the final tumor volume of each mouse across four of the most promising treatment regimens. \n",
    "mice_df2.sort_values('Drug', ascending=False,inplace=True)\n",
    "new_columns = mice_df2.iloc[:,[0,1,5,6]]\n",
    "#new_columns.reset_index(drop=True, inplace=True)\n",
    "top_four = new_columns.loc[new_columns['Drug'].isin(['Ramicane','Capomulin','Propriva', 'Ceftamin'])].copy()\n",
    "sorted_tf = top_four.sort_values(by=['MID','Timept'],ascending=False)\n",
    "# dropping duplicates, keeping first value, should be the final volume per mouse\n",
    "last_top_four = sorted_tf.drop_duplicates(subset='MID', keep='first').copy()\n",
    "last_top_four"
   ]
  },
  {
   "cell_type": "code",
   "execution_count": 15,
   "metadata": {},
   "outputs": [
    {
     "data": {
      "text/plain": [
       "NormaltestResult(statistic=4.477533709126598, pvalue=0.10658986417434611)"
      ]
     },
     "execution_count": 15,
     "metadata": {},
     "output_type": "execute_result"
    }
   ],
   "source": [
    "tf_df = last_top_four.sort_values(by=['Drug'])\n",
    "tf_df.reset_index(inplace=True)\n",
    "del tf_df['index']\n",
    "Capomulin_list = tf_df[tf_df['Drug']=='Capomulin']['Volume'].copy()\n",
    "Ceftamin_list = tf_df[tf_df['Drug']=='Ceftamin']['Volume'].copy()\n",
    "Propriva_list = tf_df[tf_df['Drug']=='Propriva']['Volume'].copy()\n",
    "Ramicane_list = tf_df[tf_df['Drug']=='Ramicane']['Volume'].copy()\n",
    "Capomulin_list.sort_values(inplace=True)\n",
    "Ceftamin_list.sort_values(inplace=True)\n",
    "Propriva_list.sort_values(inplace=True)\n",
    "Ramicane_list.sort_values(inplace=True)\n",
    "st.normaltest(Ramicane_list.sample(20))"
   ]
  },
  {
   "cell_type": "markdown",
   "metadata": {},
   "source": [
    "##Generate a box plot of the final tumor volume of each mouse across four regimens of interest"
   ]
  },
  {
   "cell_type": "code",
   "execution_count": 16,
   "metadata": {},
   "outputs": [
    {
     "data": {
      "image/png": "[encoded data removed]",
      "text/plain": [
       "<Figure size 864x576 with 1 Axes>"
      ]
     },
     "metadata": {
      "needs_background": "light"
     },
     "output_type": "display_data"
    }
   ],
   "source": [
    "data_to_plot = [Capomulin_list, Ceftamin_list, Propriva_list, Ramicane_list]\n",
    "# Create a figure instance\n",
    "fig = plt.figure(1, figsize=(12, 8))\n",
    "# Create an axes instance\n",
    "ax = fig.add_subplot(111)\n",
    "# Create the boxplot\n",
    "bp = ax.boxplot(data_to_plot, showfliers=True, manage_ticks=True, patch_artist=True)\n",
    "for box in bp['boxes']:\n",
    "    # change outline color\n",
    "    box.set( color='#c62535', linewidth=2)\n",
    "    # change fill color\n",
    "    box.set( facecolor = '#ffe9da' )\n",
    "\n",
    "## change color and linewidth of the whiskers\n",
    "for whisker in bp['whiskers']:\n",
    "    whisker.set(color='#4c4f6a', linewidth=2)\n",
    "\n",
    "## change color and linewidth of the caps\n",
    "for cap in bp['caps']:\n",
    "    cap.set(color='#4c4f6a', linewidth=2)\n",
    "\n",
    "## change color and linewidth of the medians\n",
    "for median in bp['medians']:\n",
    "    median.set(color='#c62535', linewidth=2)\n",
    "for flier in bp['fliers']:\n",
    "    flier.set(marker='o', color='#e7298a', alpha=0.5)\n",
    "ax.set_title('Tumor Volume')\n",
    "ax.set_ylabel('Tumor Volume (mm3)')\n",
    "ax.set_xlabel('Drug Regimens', size='large')\n",
    "ax.set_xticklabels(['Capomulin', 'Ceftamin', 'Propriva', 'Ramicane'], size='large')\n",
    "plt.show()"
   ]
  },
  {
   "cell_type": "markdown",
   "metadata": {},
   "source": [
    "#Calculate the IQR and quantitatively determine if there are any potential outliers. "
   ]
  },
  {
   "cell_type": "markdown",
   "metadata": {},
   "source": [
    "#If the data is in a dataframe, we use pandas to give quartile calculations"
   ]
  },
  {
   "cell_type": "markdown",
   "metadata": {},
   "source": [
    "#Capomulin"
   ]
  },
  {
   "cell_type": "code",
   "execution_count": 17,
   "metadata": {},
   "outputs": [
    {
     "name": "stdout",
     "output_type": "stream",
     "text": [
      "The lower quartile of tumor vol (Capomulin treated mice) is: 32.38\n",
      "The upper quartile of tumor vol (Capomulin treated mice) is: 40.16\n",
      "The interquartile range of tumor vol (Capomulin treated mice) is: 7.78\n",
      "The the median of tumor vol (Capomulin treated mice) is: 38.13 \n",
      "Values below 20.71 could be outliers.\n",
      "Values above 51.83 could be outliers.\n"
     ]
    }
   ],
   "source": [
    "#Capomulin\n",
    "quartiles = round(Capomulin_list.quantile([.25,.5,.75]),2)\n",
    "lowerq = quartiles[0.25]\n",
    "upperq = quartiles[0.75]\n",
    "iqr = round(upperq-lowerq,2)\n",
    "print(f\"The lower quartile of tumor vol (Capomulin treated mice) is: {lowerq}\")\n",
    "print(f\"The upper quartile of tumor vol (Capomulin treated mice) is: {upperq}\")\n",
    "print(f\"The interquartile range of tumor vol (Capomulin treated mice) is: {iqr}\")\n",
    "print(f\"The the median of tumor vol (Capomulin treated mice) is: {quartiles[0.5]} \")\n",
    "lower_bound = lowerq - (1.5*iqr)\n",
    "upper_bound = upperq + (1.5*iqr)\n",
    "print(f\"Values below {lower_bound} could be outliers.\")\n",
    "print(f\"Values above {upper_bound} could be outliers.\")"
   ]
  },
  {
   "cell_type": "code",
   "execution_count": 18,
   "metadata": {},
   "outputs": [
    {
     "name": "stdout",
     "output_type": "stream",
     "text": [
      "The lower quartile of tumor vol (Ceftamin treated mice) is: 48.72\n",
      "The upper quartile of tumor vol (Ceftamin treated mice) is: 64.3\n",
      "The interquartile range of tumor vol (Ceftamin treated mice) is: 15.58\n",
      "The the median of tumor vol (Ceftamin treated mice) is: 59.85 \n",
      "Values below 25.35 could be outliers.\n",
      "Values above 87.67 could be outliers.\n"
     ]
    }
   ],
   "source": [
    "#Ceftamin\n",
    "quartiles = round(Ceftamin_list.quantile([.25,.5,.75]),2)\n",
    "lowerq = quartiles[0.25]\n",
    "upperq = quartiles[0.75]\n",
    "iqr = round(upperq-lowerq,2)\n",
    "print(f\"The lower quartile of tumor vol (Ceftamin treated mice) is: {lowerq}\")\n",
    "print(f\"The upper quartile of tumor vol (Ceftamin treated mice) is: {upperq}\")\n",
    "print(f\"The interquartile range of tumor vol (Ceftamin treated mice) is: {iqr}\")\n",
    "print(f\"The the median of tumor vol (Ceftamin treated mice) is: {quartiles[0.5]} \")\n",
    "lower_bound = round(lowerq - (1.5*iqr),2)\n",
    "upper_bound = upperq + (1.5*iqr)\n",
    "print(f\"Values below {lower_bound} could be outliers.\")\n",
    "print(f\"Values above {upper_bound} could be outliers.\")"
   ]
  },
  {
   "cell_type": "markdown",
   "metadata": {},
   "source": [
    "#Propriva"
   ]
  },
  {
   "cell_type": "code",
   "execution_count": 19,
   "metadata": {},
   "outputs": [
    {
     "name": "stdout",
     "output_type": "stream",
     "text": [
      "The lower quartile of tumor vol (Propriva treated mice) is: 49.12\n",
      "The upper quartile of tumor vol (Propriva treated mice) is: 62.57\n",
      "The interquartile range of tumor vol (Propriva treated mice) is: 13.45\n",
      "The the median of tumor vol (Propriva treated mice) is: 55.84 \n",
      "Values below 28.94 could be outliers.\n",
      "Values above 82.745 could be outliers.\n"
     ]
    }
   ],
   "source": [
    "#Propriva\n",
    "quartiles = round(Propriva_list.quantile([.25,.5,.75]),2)\n",
    "lowerq = quartiles[0.25]\n",
    "upperq = quartiles[0.75]\n",
    "iqr = round(upperq-lowerq,2)\n",
    "print(f\"The lower quartile of tumor vol (Propriva treated mice) is: {lowerq}\")\n",
    "print(f\"The upper quartile of tumor vol (Propriva treated mice) is: {upperq}\")\n",
    "print(f\"The interquartile range of tumor vol (Propriva treated mice) is: {iqr}\")\n",
    "print(f\"The the median of tumor vol (Propriva treated mice) is: {quartiles[0.5]} \")\n",
    "lower_bound = round(lowerq - (1.5*iqr),2)\n",
    "upper_bound = upperq + (1.5*iqr)\n",
    "print(f\"Values below {lower_bound} could be outliers.\")\n",
    "print(f\"Values above {upper_bound} could be outliers.\")"
   ]
  },
  {
   "cell_type": "markdown",
   "metadata": {},
   "source": [
    "#Ramicane"
   ]
  },
  {
   "cell_type": "code",
   "execution_count": 20,
   "metadata": {},
   "outputs": [
    {
     "name": "stdout",
     "output_type": "stream",
     "text": [
      "The lower quartile of tumor vol (Ramicane treated mice) is: 32.38\n",
      "The upper quartile of tumor vol (Ramicane treated mice) is: 40.16\n",
      "The interquartile range of tumor vol (Ramicane treated mice) is: 7.78\n",
      "The the median of tumor vol (Ramicane treated mice) is: 38.13 \n",
      "Values below 20.71 could be outliers.\n",
      "Values above 51.83 could be outliers.\n"
     ]
    }
   ],
   "source": [
    "#Ramicane\n",
    "quartiles = round(Capomulin_list.quantile([.25,.5,.75]),2)\n",
    "lowerq = quartiles[0.25]\n",
    "upperq = quartiles[0.75]\n",
    "iqr = round(upperq-lowerq,2)\n",
    "print(f\"The lower quartile of tumor vol (Ramicane treated mice) is: {lowerq}\")\n",
    "print(f\"The upper quartile of tumor vol (Ramicane treated mice) is: {upperq}\")\n",
    "print(f\"The interquartile range of tumor vol (Ramicane treated mice) is: {iqr}\")\n",
    "print(f\"The the median of tumor vol (Ramicane treated mice) is: {quartiles[0.5]} \")\n",
    "lower_bound = round(lowerq - (1.5*iqr),2)\n",
    "upper_bound = upperq + (1.5*iqr)\n",
    "print(f\"Values below {lower_bound} could be outliers.\")\n",
    "print(f\"Values above {upper_bound} could be outliers.\")"
   ]
  },
  {
   "cell_type": "markdown",
   "metadata": {},
   "source": [
    "## Line and scatter plots"
   ]
  },
  {
   "cell_type": "markdown",
   "metadata": {},
   "source": [
    "##Generate a line plot of time point versus tumor volume for a mouse treated with Capomulin"
   ]
  },
  {
   "cell_type": "code",
   "execution_count": 21,
   "metadata": {},
   "outputs": [
    {
     "data": {
      "image/png": "[encoded data removed]",
      "text/plain": [
       "<Figure size 432x288 with 1 Axes>"
      ]
     },
     "metadata": {
      "needs_background": "light"
     },
     "output_type": "display_data"
    }
   ],
   "source": [
    "mouse_id = 's185'\n",
    "# Collect the trips of the 'mouseid' above\n",
    "capo_mouse = new_columns.loc[new_columns['Drug'].isin(['Capomulin'])].copy()\n",
    "s185_data = capo_mouse[capo_mouse['MID']=='s185'][['MID','Timept','Volume']]\n",
    "s185_data.sort_values('Timept', ascending=True, inplace=True)\n",
    "x_axis = s185_data['Timept']\n",
    "y_axis = s185_data['Volume']\n",
    "plt.xlabel('Timepts (Days)')\n",
    "plt.ylabel('Tumor Volume (mm3)')\n",
    "plt.plot(x_axis,y_axis, color='#ff3d7f')\n",
    "plt.title('s185 Tumour Volume Over Time')\n",
    "\n",
    "plt.grid()\n",
    "plt.show()"
   ]
  },
  {
   "cell_type": "markdown",
   "metadata": {},
   "source": [
    "##Generate a scatter plot of mouse weight versus average tumor volume for the Capomulin regimen"
   ]
  },
  {
   "cell_type": "code",
   "execution_count": 22,
   "metadata": {},
   "outputs": [],
   "source": [
    "capomulin_mice = mice_df3[mice_df3['Drug']=='Capomulin']\n",
    "mice_df3.set_index('Drug', inplace=True)\n",
    "capomulin_mice_2 = mice_df3.loc['Capomulin']\n",
    "capo_weight_vol = capomulin_mice_2.groupby('MID')[['Weight', 'Volume']].mean()\n",
    "capo_weight_vols=capo_weight_vol.sort_values('Weight',ascending=True)\n",
    "weight = capo_weight_vols.Weight\n",
    "volume = capo_weight_vols.Volume\n"
   ]
  },
  {
   "cell_type": "code",
   "execution_count": 23,
   "metadata": {},
   "outputs": [
    {
     "data": {
      "image/png": "[encoded data removed]",
      "text/plain": [
       "<Figure size 720x576 with 1 Axes>"
      ]
     },
     "metadata": {
      "needs_background": "light"
     },
     "output_type": "display_data"
    }
   ],
   "source": [
    "%matplotlib inline\n",
    "capo_weight_vols.plot(kind='scatter', x='Weight', y='Volume', \n",
    "                     grid=True, figsize=(10,8), title='Weight vs. Average Tumor Volume')\n",
    "plt.show()"
   ]
  },
  {
   "cell_type": "markdown",
   "metadata": {},
   "source": [
    "#Calculate the correlation coefficient for mouse weight and average tumor volume for the Capomulin regimen"
   ]
  },
  {
   "cell_type": "code",
   "execution_count": 24,
   "metadata": {},
   "outputs": [
    {
     "name": "stdout",
     "output_type": "stream",
     "text": [
      "The correlation coefficient between mouse weight and avg tumor volume is 0.84\n"
     ]
    }
   ],
   "source": [
    "print(f\"The correlation coefficient between mouse weight and avg tumor volume is {round(st.pearsonr(weight,volume)[0],2)}\")"
   ]
  },
  {
   "cell_type": "code",
   "execution_count": 25,
   "metadata": {},
   "outputs": [
    {
     "data": {
      "text/plain": [
       "MID\n",
       "x401    35.868756\n",
       "y793    37.777635\n",
       "u364    37.777635\n",
       "f966    37.777635\n",
       "t565    37.777635\n",
       "s185    37.777635\n",
       "r554    37.777635\n",
       "m601    37.777635\n",
       "l897    39.686515\n",
       "m957    39.686515\n",
       "g288    39.686515\n",
       "i738    40.640954\n",
       "j246    41.595394\n",
       "b742    41.595394\n",
       "v923    41.595394\n",
       "w914    41.595394\n",
       "l509    41.595394\n",
       "g316    42.549834\n",
       "b128    42.549834\n",
       "j119    43.504273\n",
       "s710    43.504273\n",
       "w150    43.504273\n",
       "i557    44.458713\n",
       "r157    45.413153\n",
       "r944    45.413153\n",
       "Name: Weight, dtype: float64"
      ]
     },
     "execution_count": 25,
     "metadata": {},
     "output_type": "execute_result"
    }
   ],
   "source": [
    "#elements of linregression\n",
    "(slope, intercept, rvalue, pvalue, stderr) = st.linregress(weight, volume)\n",
    "#line equation\n",
    "cap_fit = weight * slope + intercept\n",
    "cap_fit"
   ]
  },
  {
   "cell_type": "markdown",
   "metadata": {},
   "source": [
    "#Calculate the linear regression model for mouse weight and average tumor volume for the Capomulin regimen"
   ]
  },
  {
   "cell_type": "code",
   "execution_count": 26,
   "metadata": {},
   "outputs": [
    {
     "name": "stdout",
     "output_type": "stream",
     "text": [
      "The r-squared is: 0.841936342469472\n"
     ]
    },
    {
     "data": {
      "image/png": "[encoded data removed]",
      "text/plain": [
       "<Figure size 720x504 with 1 Axes>"
      ]
     },
     "metadata": {
      "needs_background": "light"
     },
     "output_type": "display_data"
    }
   ],
   "source": [
    "%matplotlib inline\n",
    "weight = capo_weight_vols.Weight\n",
    "volume = capo_weight_vols.Volume\n",
    "plt.rcParams[\"figure.figsize\"] = (10,7)\n",
    "(slope, intercept, rvalue, pvalue, stderr) = st.linregress(weight, volume)\n",
    "cap_fit = weight * slope + intercept\n",
    "line_eq = \"y = \" + str(round(slope,2)) + \"x + \" + str(round(intercept,2))\n",
    "plt.scatter(weight,volume)\n",
    "plt.plot(weight,cap_fit,\"-.\", color='#aa387b')\n",
    "plt.annotate(line_eq,(22,39),fontsize=15,color=\"#aa387b\")\n",
    "plt.title('Weight vs. Average Tumor Volume', fontsize=18)\n",
    "plt.grid()\n",
    "plt.xlabel('Weight')\n",
    "plt.ylabel('Volume')\n",
    "print(f\"The r-squared is: {rvalue}\")\n",
    "plt.show()"
   ]
  },
  {
   "cell_type": "code",
   "execution_count": null,
   "metadata": {},
   "outputs": [],
   "source": []
  },
  {
   "cell_type": "code",
   "execution_count": null,
   "metadata": {},
   "outputs": [],
   "source": []
  }
 ],
 "metadata": {
  "anaconda-cloud": {},
  "kernelspec": {
   "display_name": "Python 3",
   "language": "python",
   "name": "python3"
  },
  "language_info": {
   "codemirror_mode": {
    "name": "ipython",
    "version": 3
   },
   "file_extension": ".py",
   "mimetype": "text/x-python",
   "name": "python",
   "nbconvert_exporter": "python",
   "pygments_lexer": "ipython3",
   "version": "3.7.4"
  }
 },
 "nbformat": 4,
 "nbformat_minor": 2
}
